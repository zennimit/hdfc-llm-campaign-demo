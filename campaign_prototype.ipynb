{
 "cells": [
  {
   "cell_type": "markdown",
   "metadata": {},
   "source": [
    "# Campaign Engine Prototype\n",
    "\n",
    "This notebook walks through each step of the LLM-powered campaign engine.\n",
    "\n",
    "---"
   ]
  },
  {
   "cell_type": "code",
   "execution_count": null,
   "metadata": {},
   "outputs": [],
   "source": [
    "!pip install openai pandas scikit-learn faiss-cpu matplotlib ipywidgets"
   ]
  },
  {
   "cell_type": "code",
   "execution_count": null,
   "metadata": {},
   "outputs": [],
   "source": [
    "import os\n",
    "import pandas as pd\n",
    "import numpy as np\n",
    "import faiss\n",
    "import openai\n",
    "from sklearn.cluster import KMeans\n",
    "from sklearn.metrics.pairwise import cosine_similarity\n",
    "import matplotlib.pyplot as plt\n",
    "from io import StringIO\n",
    "\n",
    "# Set your OpenAI API key\n",
    "openai.api_key = os.getenv(\"OPENAI_API_KEY\", \"<YOUR_API_KEY_HERE>\")"
   ]
  },
  {
   "cell_type": "markdown",
   "metadata": {},
   "source": [
    "## Step 1: Load & Clean Data"
   ]
  },
  {
   "cell_type": "code",
   "execution_count": null,
   "metadata": {},
   "outputs": [],
   "source": [
    "# Update the path if needed\n",
    "DATA_PATH = \"data/transactions.csv\"\n",
    "df = pd.read_csv(DATA_PATH)\n",
    "\n",
    "# Normalize column names\n",
    "if \"Customer ID\" in df.columns:\n",
    "    df = df.rename(columns={\"Customer ID\": \"user_id\"})\n",
    "elif \"customer_id\" in df.columns:\n",
    "    df = df.rename(columns={\"customer_id\": \"user_id\"})\n",
    "\n",
    "# Build event_text\n",
    "df[\"event_text\"] = df[\"Merchant\"] + \" | \" + df[\"Category\"] + \" | ₹\" + df[\"Amount (INR)\"].astype(str)\n",
    "df.head()"
   ]
  },
  {
   "cell_type": "markdown",
   "metadata": {},
   "source": [
    "## Step 2: Sample Events & Embed"
   ]
  },
  {
   "cell_type": "code",
   "execution_count": null,
   "metadata": {},
   "outputs": [],
   "source": [
    "# Sample up to 5 most recent events per user\n",
    "df_sorted = df.sort_values(\"Timestamp\")\n",
    "sampled = df_sorted.groupby(\"user_id\").tail(5).reset_index(drop=True)\n",
    "\n",
    "# Embed sampled texts\n",
    "texts = sampled[\"event_text\"].tolist()\n",
    "resp = openai.Embedding.create(model=\"text-embedding-ada-002\", input=texts)\n",
    "embs = np.array([d[\"embedding\"] for d in resp[\"data\"]], dtype=\"float32\")\n",
    "sampled[\"_emb\"] = list(embs)\n",
    "\n",
    "# Aggregate per-user embedding\n",
    "user_vecs = sampled.groupby(\"user_id\")[\"_emb\"].apply(lambda vs: np.mean(vs.tolist(), axis=0))\n",
    "users = user_vecs.index.tolist()\n",
    "matrix = np.vstack(user_vecs.values)\n",
    "matrix.shape"
   ]
  },
  {
   "cell_type": "markdown",
   "metadata": {},
   "source": [
    "## Step 3: Global Clustering"
   ]
  },
  {
   "cell_type": "code",
   "execution_count": null,
   "metadata": {},
   "outputs": [],
   "source": [
    "NUM_CLUSTERS = 5\n",
    "km = KMeans(n_clusters=NUM_CLUSTERS, random_state=42).fit(matrix)\n",
    "labels = km.labels_\n",
    "centroids = km.cluster_centers_\n",
    "\n",
    "# Display cluster sizes\n",
    "pd.Series(labels).value_counts().sort_index()"
   ]
  },
  {
   "cell_type": "markdown",
   "metadata": {},
   "source": [
    "## Step 4: Visualize Cluster Distribution"
   ]
  },
  {
   "cell_type": "code",
   "execution_count": null,
   "metadata": {},
   "outputs": [],
   "source": [
    "plt.bar(range(NUM_CLUSTERS), pd.Series(labels).value_counts().sort_index())\n",
    "plt.xlabel(\"Cluster\")\n",
    "plt.ylabel(\"Number of Users\")\n",
    "plt.title(\"Global Cluster Sizes\")\n",
    "plt.show()"
   ]
  },
  {
   "cell_type": "markdown",
   "metadata": {},
   "source": [
    "## Step 5: Campaign Goal & Cluster Ranking"
   ]
  },
  {
   "cell_type": "code",
   "execution_count": null,
   "metadata": {},
   "outputs": [],
   "source": [
    "campaign_goal = \"Weekend getaway for flight & hotel bookers\"\n",
    "gv = openai.Embedding.create(model=\"text-embedding-ada-002\", input=[campaign_goal])[\"data\"][0][\"embedding\"]\n",
    "sims = cosine_similarity([gv], centroids)[0]\n",
    "ranked = np.argsort(sims)[::-1]\n",
    "ranked[:3], sims[ranked[:3]]"
   ]
  },
  {
   "cell_type": "markdown",
   "metadata": {},
   "source": [
    "## Step 6: Define Campaigns & Compute Propensities"
   ]
  },
  {
   "cell_type": "code",
   "execution_count": null,
   "metadata": {},
   "outputs": [],
   "source": [
    "campaign_csv = \"\"\"campaign_id,description,cost\n",
    "A,10% off flight booking,100\n",
    "B,₹500 cashback on hotel,80\n",
    "C,Buy-1-Get-1 ride voucher,60\"\"\"\n",
    "\n",
    "camp_df = pd.read_csv(StringIO(campaign_csv))\n",
    "camp_df\n",
    "# Embed campaign descriptions\n",
    "descs = camp_df[\"description\"].tolist()\n",
    "resp = openai.Embedding.create(model=\"text-embedding-ada-002\", input=descs)\n",
    "camp_embs = np.array([d[\"embedding\"] for d in resp[\"data\"]], dtype=\"float32\")\n",
    "\n",
    "# Compute propensities\n",
    "sims_uc = cosine_similarity(matrix, camp_embs)\n",
    "rows = []\n",
    "for i, uid in enumerate(users):\n",
    "    best_j = np.argmax(sims_uc[i])\n",
    "    rows.append({\n",
    "        \"user_id\": uid,\n",
    "        \"campaign_id\": camp_df.loc[best_j,\"campaign_id\"],\n",
    "        \"propensity\": float(sims_uc[i,best_j]),\n",
    "        \"cost\": float(camp_df.loc[best_j,\"cost\"])\n",
    "    })\n",
    "assign_df = pd.DataFrame(rows)\n",
    "assign_df.head()"
   ]
  },
  {
   "cell_type": "markdown",
   "metadata": {},
   "source": [
    "## Step 7: Budget-Constrained Selection"
   ]
  },
  {
   "cell_type": "code",
   "execution_count": null,
   "metadata": {},
   "outputs": [],
   "source": [
    "total_budget = 100000\n",
    "assign_df[\"roi\"] = assign_df[\"propensity\"] / assign_df[\"cost\"]\n",
    "df_sorted = assign_df.sort_values(by=\"roi\", ascending=False)\n",
    "\n",
    "spent = 0\n",
    "keep = []\n",
    "for _, row in df_sorted.iterrows():\n",
    "    if spent + row[\"cost\"] <= total_budget:\n",
    "        keep.append(True)\n",
    "        spent += row[\"cost\"]\n",
    "    else:\n",
    "        keep.append(False)\n",
    "df_sorted[\"selected\"] = keep\n",
    "\n",
    "print(\"Total spent:\", spent)\n",
    "df_sorted[df_sorted[\"selected\"]].head()"
   ]
  },
  {
   "cell_type": "markdown",
   "metadata": {},
   "source": [
    "## Step 8: LLM Rationales for Cohorts & Users"
   ]
  },
  {
   "cell_type": "code",
   "execution_count": null,
   "metadata": {},
   "outputs": [],
   "source": [
    "selected = df_sorted[df_sorted[\"selected\"]]\n",
    "for cluster_idx in ranked[:2]:\n",
    "    seg_users = [users[i] for i,label in enumerate(labels) if label==cluster_idx]\n",
    "    seg_selected = selected[selected[\"user_id\"].isin(seg_users)]\n",
    "    if seg_selected.empty:\n",
    "        continue\n",
    "    print(f\"### Cohort {cluster_idx}\")\n",
    "    # Cohort rationale\n",
    "    cohort_rationale = openai.ChatCompletion.create(\n",
    "        model=\"gpt-4o-mini\",\n",
    "        messages=[\n",
    "            {\"role\":\"system\",\"content\":\"You are a campaign reasoning assistant.\"},\n",
    "            {\"role\":\"user\",\"content\":\n",
    " f\"\"\"Campaign Goal: {campaign_goal}\\nCohort Users: {seg_selected['user_id'].tolist()}\\nWrite a one-sentence rationale.\"\"\"}\n",
    "        ]\n",
    "    ).choices[0].message.content.strip()\n",
    "    print(\"Cohort rationale:\", cohort_rationale)\n",
    "    # Per-user rationales\n",
    "    for _, row in seg_selected.iterrows():\n",
    "        usr, camp = row[\"user_id\"], row[\"campaign_id\"]\n",
    "        user_rationale = openai.ChatCompletion.create(\n",
    "            model=\"gpt-4o-mini\",\n",
    "            messages=[\n",
    "                {\"role\":\"system\",\"content\":\"You are a campaign reasoning assistant.\"},\n",
    "                {\"role\":\"user\",\"content\":\n",
    " f\"\"\"User ID: {usr}\\nEvent texts: {df[df['user_id']==usr]['event_text'].tolist()}\\nAssigned Campaign: {camp}\\nWrite a one-line rationale.\n\"\"\"}\n",
    "            ]\n",
    "        ).choices[0].message.content.strip()\n",
    "        print(usr, camp, user_rationale)\n"
   ]
  }
 ],
 "metadata": {
  "kernelspec": {
   "display_name": "Python 3",
   "language": "python",
   "name": "python3"
  },
  "language_info": {
   "name": "python"
  }
 },
 "nbformat": 4,
 "nbformat_minor": 5
}

